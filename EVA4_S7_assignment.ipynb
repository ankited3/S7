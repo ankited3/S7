{
  "nbformat": 4,
  "nbformat_minor": 0,
  "metadata": {
    "colab": {
      "provenance": [],
      "gpuType": "T4"
    },
    "kernelspec": {
      "name": "python3",
      "display_name": "Python 3"
    },
    "accelerator": "GPU"
  },
  "cells": [
    {
      "cell_type": "code",
      "metadata": {
        "id": "0m2JWFliFfKT"
      },
      "source": [
        "from __future__ import print_function\n",
        "import torch\n",
        "import torch.nn as nn\n",
        "import torch.nn.functional as F\n",
        "import torch.optim as optim\n",
        "from torchvision import datasets, transforms\n",
        "import matplotlib.pyplot as plt\n"
      ],
      "execution_count": 2,
      "outputs": []
    },
    {
      "cell_type": "code",
      "source": [
        "!git clone https://github.com/ankited3/ERAV4-S7.git\n",
        "%cd ERAV4-S7"
      ],
      "metadata": {
        "colab": {
          "base_uri": "https://localhost:8080/"
        },
        "id": "e0VCUTjUm-09",
        "outputId": "4429cbe9-4462-4039-d8d0-f43ae8bf07fe"
      },
      "execution_count": 8,
      "outputs": [
        {
          "output_type": "stream",
          "name": "stdout",
          "text": [
            "Cloning into 'ERAV4-S7'...\n",
            "remote: Enumerating objects: 8, done.\u001b[K\n",
            "remote: Counting objects: 100% (8/8), done.\u001b[K\n",
            "remote: Compressing objects: 100% (6/6), done.\u001b[K\n",
            "remote: Total 8 (delta 0), reused 5 (delta 0), pack-reused 0 (from 0)\u001b[K\n",
            "Receiving objects: 100% (8/8), 8.43 KiB | 8.43 MiB/s, done.\n",
            "/content/S7/ERAV4-S7\n"
          ]
        }
      ]
    },
    {
      "cell_type": "code",
      "source": [
        "from torchsummary import summary\n",
        "from model import Net\n",
        "use_cuda = torch.cuda.is_available()\n",
        "device = torch.device(\"cuda\" if use_cuda else \"cpu\")\n",
        "model = Net().to(device)\n",
        "summary(model, input_size=(3, 32, 32))"
      ],
      "metadata": {
        "id": "ZOMyMwHbkFYm",
        "colab": {
          "base_uri": "https://localhost:8080/"
        },
        "outputId": "518fa5ad-a37c-4889-fa9c-e8460a4b2e03"
      },
      "execution_count": 4,
      "outputs": [
        {
          "output_type": "stream",
          "name": "stdout",
          "text": [
            "----------------------------------------------------------------\n",
            "        Layer (type)               Output Shape         Param #\n",
            "================================================================\n",
            "            Conv2d-1           [-1, 32, 32, 32]             864\n",
            "              ReLU-2           [-1, 32, 32, 32]               0\n",
            "       BatchNorm2d-3           [-1, 32, 32, 32]              64\n",
            "           Dropout-4           [-1, 32, 32, 32]               0\n",
            "            Conv2d-5           [-1, 32, 32, 32]           9,216\n",
            "              ReLU-6           [-1, 32, 32, 32]               0\n",
            "       BatchNorm2d-7           [-1, 32, 32, 32]              64\n",
            "           Dropout-8           [-1, 32, 32, 32]               0\n",
            "            Conv2d-9           [-1, 32, 32, 32]           9,216\n",
            "             ReLU-10           [-1, 32, 32, 32]               0\n",
            "      BatchNorm2d-11           [-1, 32, 32, 32]              64\n",
            "          Dropout-12           [-1, 32, 32, 32]               0\n",
            "           Conv2d-13           [-1, 32, 32, 32]           9,216\n",
            "             ReLU-14           [-1, 32, 32, 32]               0\n",
            "      BatchNorm2d-15           [-1, 32, 32, 32]              64\n",
            "          Dropout-16           [-1, 32, 32, 32]               0\n",
            "           Conv2d-17           [-1, 64, 32, 32]          18,432\n",
            "             ReLU-18           [-1, 64, 32, 32]               0\n",
            "      BatchNorm2d-19           [-1, 64, 32, 32]             128\n",
            "          Dropout-20           [-1, 64, 32, 32]               0\n",
            "           Conv2d-21           [-1, 64, 16, 16]          16,384\n",
            "           Conv2d-22           [-1, 32, 16, 16]           2,048\n",
            "           Conv2d-23           [-1, 32, 16, 16]           9,216\n",
            "             ReLU-24           [-1, 32, 16, 16]               0\n",
            "      BatchNorm2d-25           [-1, 32, 16, 16]              64\n",
            "          Dropout-26           [-1, 32, 16, 16]               0\n",
            "           Conv2d-27           [-1, 32, 16, 16]             288\n",
            "      BatchNorm2d-28           [-1, 32, 16, 16]              64\n",
            "             ReLU-29           [-1, 32, 16, 16]               0\n",
            "           Conv2d-30           [-1, 64, 16, 16]           2,048\n",
            "      BatchNorm2d-31           [-1, 64, 16, 16]             128\n",
            "             ReLU-32           [-1, 64, 16, 16]               0\n",
            "          Dropout-33           [-1, 64, 16, 16]               0\n",
            "           Conv2d-34           [-1, 32, 16, 16]          18,432\n",
            "             ReLU-35           [-1, 32, 16, 16]               0\n",
            "      BatchNorm2d-36           [-1, 32, 16, 16]              64\n",
            "          Dropout-37           [-1, 32, 16, 16]               0\n",
            "           Conv2d-38           [-1, 32, 16, 16]           9,216\n",
            "             ReLU-39           [-1, 32, 16, 16]               0\n",
            "      BatchNorm2d-40           [-1, 32, 16, 16]              64\n",
            "          Dropout-41           [-1, 32, 16, 16]               0\n",
            "           Conv2d-42             [-1, 32, 8, 8]           4,096\n",
            "           Conv2d-43             [-1, 32, 8, 8]           1,024\n",
            "           Conv2d-44             [-1, 32, 8, 8]           9,216\n",
            "             ReLU-45             [-1, 32, 8, 8]               0\n",
            "      BatchNorm2d-46             [-1, 32, 8, 8]              64\n",
            "          Dropout-47             [-1, 32, 8, 8]               0\n",
            "           Conv2d-48             [-1, 32, 8, 8]           9,216\n",
            "             ReLU-49             [-1, 32, 8, 8]               0\n",
            "      BatchNorm2d-50             [-1, 32, 8, 8]              64\n",
            "          Dropout-51             [-1, 32, 8, 8]               0\n",
            "           Conv2d-52             [-1, 32, 8, 8]           9,216\n",
            "             ReLU-53             [-1, 32, 8, 8]               0\n",
            "      BatchNorm2d-54             [-1, 32, 8, 8]              64\n",
            "          Dropout-55             [-1, 32, 8, 8]               0\n",
            "           Conv2d-56             [-1, 32, 8, 8]           9,216\n",
            "             ReLU-57             [-1, 32, 8, 8]               0\n",
            "      BatchNorm2d-58             [-1, 32, 8, 8]              64\n",
            "          Dropout-59             [-1, 32, 8, 8]               0\n",
            "           Conv2d-60             [-1, 32, 3, 3]           9,216\n",
            "           Conv2d-61             [-1, 32, 3, 3]           1,024\n",
            "           Conv2d-62             [-1, 32, 3, 3]           9,216\n",
            "             ReLU-63             [-1, 32, 3, 3]               0\n",
            "      BatchNorm2d-64             [-1, 32, 3, 3]              64\n",
            "          Dropout-65             [-1, 32, 3, 3]               0\n",
            "           Conv2d-66             [-1, 32, 3, 3]           9,216\n",
            "             ReLU-67             [-1, 32, 3, 3]               0\n",
            "      BatchNorm2d-68             [-1, 32, 3, 3]              64\n",
            "          Dropout-69             [-1, 32, 3, 3]               0\n",
            "           Conv2d-70             [-1, 32, 3, 3]           9,216\n",
            "             ReLU-71             [-1, 32, 3, 3]               0\n",
            "      BatchNorm2d-72             [-1, 32, 3, 3]              64\n",
            "          Dropout-73             [-1, 32, 3, 3]               0\n",
            "           Conv2d-74             [-1, 32, 3, 3]           9,216\n",
            "             ReLU-75             [-1, 32, 3, 3]               0\n",
            "      BatchNorm2d-76             [-1, 32, 3, 3]              64\n",
            "          Dropout-77             [-1, 32, 3, 3]               0\n",
            "        AvgPool2d-78             [-1, 32, 1, 1]               0\n",
            "           Conv2d-79             [-1, 10, 1, 1]             320\n",
            "================================================================\n",
            "Total params: 195,264\n",
            "Trainable params: 195,264\n",
            "Non-trainable params: 0\n",
            "----------------------------------------------------------------\n",
            "Input size (MB): 0.01\n",
            "Forward/backward pass size (MB): 7.95\n",
            "Params size (MB): 0.74\n",
            "Estimated Total Size (MB): 8.70\n",
            "----------------------------------------------------------------\n"
          ]
        }
      ]
    },
    {
      "cell_type": "code",
      "source": [
        "from utils import train, test, train_loader, test_loader\n",
        "use_cuda = torch.cuda.is_available()\n"
      ],
      "metadata": {
        "id": "Z3Km6g8YktGk",
        "colab": {
          "base_uri": "https://localhost:8080/"
        },
        "outputId": "c69678e8-0191-4fba-c536-5f6814f233c8"
      },
      "execution_count": 5,
      "outputs": [
        {
          "output_type": "stream",
          "name": "stderr",
          "text": [
            "/usr/local/lib/python3.12/dist-packages/albumentations/core/validation.py:114: UserWarning: ShiftScaleRotate is a special case of Affine transform. Please use Affine transform instead.\n",
            "  original_init(self, **validated_kwargs)\n",
            "100%|██████████| 170M/170M [00:13<00:00, 12.3MB/s]\n"
          ]
        },
        {
          "output_type": "stream",
          "name": "stdout",
          "text": [
            "CUDA Available? True\n"
          ]
        },
        {
          "output_type": "stream",
          "name": "stderr",
          "text": [
            "/usr/local/lib/python3.12/dist-packages/torch/utils/data/dataloader.py:627: UserWarning: This DataLoader will create 4 worker processes in total. Our suggested max number of worker in current system is 2, which is smaller than what this DataLoader is going to create. Please be aware that excessive worker creation might get DataLoader running slow or even freeze, lower the worker number to avoid potential slowness/freeze if necessary.\n",
            "  warnings.warn(\n"
          ]
        }
      ]
    },
    {
      "cell_type": "code",
      "source": [
        "device = torch.device(\"cuda\" if use_cuda else \"cpu\")\n",
        "model =  Net().to(device)\n",
        "#optimizer = optim.SGD(model.parameters(), lr=0.01, momentum=0.9)\n",
        "optimizer = optim.Adam(model.parameters(), lr=0.001)\n",
        "scheduler = optim.lr_scheduler.StepLR(optimizer, step_size=20, gamma=0.25)\n",
        "EPOCHS = 50\n",
        "for epoch in range(EPOCHS):\n",
        "    print(\"EPOCH:\", epoch)\n",
        "    train(model, device, train_loader, optimizer, epoch)\n",
        "    scheduler.step()\n",
        "    test(model, device, test_loader)"
      ],
      "metadata": {
        "colab": {
          "base_uri": "https://localhost:8080/"
        },
        "id": "yMLjatjknoRB",
        "outputId": "8f7547f0-45e5-4776-d8c8-970a06bd43d6"
      },
      "execution_count": 7,
      "outputs": [
        {
          "output_type": "stream",
          "name": "stdout",
          "text": [
            "EPOCH: 0\n"
          ]
        },
        {
          "output_type": "stream",
          "name": "stderr",
          "text": [
            "Loss=1.6999709606170654 Batch_id=390 Accuracy=34.21: 100%|██████████| 391/391 [00:19<00:00, 19.95it/s]\n"
          ]
        },
        {
          "output_type": "stream",
          "name": "stdout",
          "text": [
            "\n",
            "Test set: Average loss: 1.5770, Accuracy: 4243/10000 (42.43%)\n",
            "\n",
            "EPOCH: 1\n"
          ]
        },
        {
          "output_type": "stream",
          "name": "stderr",
          "text": [
            "Loss=1.5941442251205444 Batch_id=390 Accuracy=47.65: 100%|██████████| 391/391 [00:19<00:00, 20.33it/s]\n"
          ]
        },
        {
          "output_type": "stream",
          "name": "stdout",
          "text": [
            "\n",
            "Test set: Average loss: 1.2592, Accuracy: 5438/10000 (54.38%)\n",
            "\n",
            "EPOCH: 2\n"
          ]
        },
        {
          "output_type": "stream",
          "name": "stderr",
          "text": [
            "Loss=1.315161943435669 Batch_id=390 Accuracy=54.57: 100%|██████████| 391/391 [00:19<00:00, 20.47it/s]\n"
          ]
        },
        {
          "output_type": "stream",
          "name": "stdout",
          "text": [
            "\n",
            "Test set: Average loss: 1.1847, Accuracy: 5836/10000 (58.36%)\n",
            "\n",
            "EPOCH: 3\n"
          ]
        },
        {
          "output_type": "stream",
          "name": "stderr",
          "text": [
            "Loss=1.0874866247177124 Batch_id=390 Accuracy=58.51: 100%|██████████| 391/391 [00:19<00:00, 19.94it/s]\n"
          ]
        },
        {
          "output_type": "stream",
          "name": "stdout",
          "text": [
            "\n",
            "Test set: Average loss: 1.0373, Accuracy: 6279/10000 (62.79%)\n",
            "\n",
            "EPOCH: 4\n"
          ]
        },
        {
          "output_type": "stream",
          "name": "stderr",
          "text": [
            "Loss=0.9350919723510742 Batch_id=390 Accuracy=62.32: 100%|██████████| 391/391 [00:20<00:00, 19.06it/s]\n"
          ]
        },
        {
          "output_type": "stream",
          "name": "stdout",
          "text": [
            "\n",
            "Test set: Average loss: 0.9814, Accuracy: 6506/10000 (65.06%)\n",
            "\n",
            "EPOCH: 5\n"
          ]
        },
        {
          "output_type": "stream",
          "name": "stderr",
          "text": [
            "Loss=1.0245119333267212 Batch_id=390 Accuracy=64.85: 100%|██████████| 391/391 [00:18<00:00, 20.64it/s]\n"
          ]
        },
        {
          "output_type": "stream",
          "name": "stdout",
          "text": [
            "\n",
            "Test set: Average loss: 0.9191, Accuracy: 6792/10000 (67.92%)\n",
            "\n",
            "EPOCH: 6\n"
          ]
        },
        {
          "output_type": "stream",
          "name": "stderr",
          "text": [
            "Loss=0.8989898562431335 Batch_id=390 Accuracy=66.95: 100%|██████████| 391/391 [00:19<00:00, 20.57it/s]\n"
          ]
        },
        {
          "output_type": "stream",
          "name": "stdout",
          "text": [
            "\n",
            "Test set: Average loss: 0.8268, Accuracy: 7134/10000 (71.34%)\n",
            "\n",
            "EPOCH: 7\n"
          ]
        },
        {
          "output_type": "stream",
          "name": "stderr",
          "text": [
            "Loss=0.781136691570282 Batch_id=390 Accuracy=68.75: 100%|██████████| 391/391 [00:19<00:00, 19.90it/s]\n"
          ]
        },
        {
          "output_type": "stream",
          "name": "stdout",
          "text": [
            "\n",
            "Test set: Average loss: 0.7998, Accuracy: 7210/10000 (72.10%)\n",
            "\n",
            "EPOCH: 8\n"
          ]
        },
        {
          "output_type": "stream",
          "name": "stderr",
          "text": [
            "Loss=1.02363920211792 Batch_id=390 Accuracy=69.83: 100%|██████████| 391/391 [00:19<00:00, 20.39it/s]\n"
          ]
        },
        {
          "output_type": "stream",
          "name": "stdout",
          "text": [
            "\n",
            "Test set: Average loss: 0.7647, Accuracy: 7337/10000 (73.37%)\n",
            "\n",
            "EPOCH: 9\n"
          ]
        },
        {
          "output_type": "stream",
          "name": "stderr",
          "text": [
            "Loss=0.7404879331588745 Batch_id=390 Accuracy=71.36: 100%|██████████| 391/391 [00:18<00:00, 20.69it/s]\n"
          ]
        },
        {
          "output_type": "stream",
          "name": "stdout",
          "text": [
            "\n",
            "Test set: Average loss: 0.7349, Accuracy: 7488/10000 (74.88%)\n",
            "\n",
            "EPOCH: 10\n"
          ]
        },
        {
          "output_type": "stream",
          "name": "stderr",
          "text": [
            "Loss=0.8576133847236633 Batch_id=390 Accuracy=72.47: 100%|██████████| 391/391 [00:19<00:00, 19.77it/s]\n"
          ]
        },
        {
          "output_type": "stream",
          "name": "stdout",
          "text": [
            "\n",
            "Test set: Average loss: 0.7033, Accuracy: 7561/10000 (75.61%)\n",
            "\n",
            "EPOCH: 11\n"
          ]
        },
        {
          "output_type": "stream",
          "name": "stderr",
          "text": [
            "Loss=0.7399789690971375 Batch_id=390 Accuracy=73.05: 100%|██████████| 391/391 [00:19<00:00, 19.90it/s]\n"
          ]
        },
        {
          "output_type": "stream",
          "name": "stdout",
          "text": [
            "\n",
            "Test set: Average loss: 0.6583, Accuracy: 7710/10000 (77.10%)\n",
            "\n",
            "EPOCH: 12\n"
          ]
        },
        {
          "output_type": "stream",
          "name": "stderr",
          "text": [
            "Loss=0.8321670293807983 Batch_id=390 Accuracy=74.25: 100%|██████████| 391/391 [00:18<00:00, 20.60it/s]\n"
          ]
        },
        {
          "output_type": "stream",
          "name": "stdout",
          "text": [
            "\n",
            "Test set: Average loss: 0.6651, Accuracy: 7714/10000 (77.14%)\n",
            "\n",
            "EPOCH: 13\n"
          ]
        },
        {
          "output_type": "stream",
          "name": "stderr",
          "text": [
            "Loss=0.8471935391426086 Batch_id=390 Accuracy=74.79: 100%|██████████| 391/391 [00:19<00:00, 20.06it/s]\n"
          ]
        },
        {
          "output_type": "stream",
          "name": "stdout",
          "text": [
            "\n",
            "Test set: Average loss: 0.6594, Accuracy: 7651/10000 (76.51%)\n",
            "\n",
            "EPOCH: 14\n"
          ]
        },
        {
          "output_type": "stream",
          "name": "stderr",
          "text": [
            "Loss=1.0340471267700195 Batch_id=390 Accuracy=75.44: 100%|██████████| 391/391 [00:20<00:00, 19.50it/s]\n"
          ]
        },
        {
          "output_type": "stream",
          "name": "stdout",
          "text": [
            "\n",
            "Test set: Average loss: 0.6430, Accuracy: 7808/10000 (78.08%)\n",
            "\n",
            "EPOCH: 15\n"
          ]
        },
        {
          "output_type": "stream",
          "name": "stderr",
          "text": [
            "Loss=0.8741426467895508 Batch_id=390 Accuracy=76.25: 100%|██████████| 391/391 [00:19<00:00, 20.06it/s]\n"
          ]
        },
        {
          "output_type": "stream",
          "name": "stdout",
          "text": [
            "\n",
            "Test set: Average loss: 0.6047, Accuracy: 7893/10000 (78.93%)\n",
            "\n",
            "EPOCH: 16\n"
          ]
        },
        {
          "output_type": "stream",
          "name": "stderr",
          "text": [
            "Loss=0.6199918985366821 Batch_id=390 Accuracy=76.71: 100%|██████████| 391/391 [00:19<00:00, 20.40it/s]\n"
          ]
        },
        {
          "output_type": "stream",
          "name": "stdout",
          "text": [
            "\n",
            "Test set: Average loss: 0.5862, Accuracy: 7926/10000 (79.26%)\n",
            "\n",
            "EPOCH: 17\n"
          ]
        },
        {
          "output_type": "stream",
          "name": "stderr",
          "text": [
            "Loss=0.46361541748046875 Batch_id=390 Accuracy=77.20: 100%|██████████| 391/391 [00:19<00:00, 19.83it/s]\n"
          ]
        },
        {
          "output_type": "stream",
          "name": "stdout",
          "text": [
            "\n",
            "Test set: Average loss: 0.5912, Accuracy: 7953/10000 (79.53%)\n",
            "\n",
            "EPOCH: 18\n"
          ]
        },
        {
          "output_type": "stream",
          "name": "stderr",
          "text": [
            "Loss=0.7998353242874146 Batch_id=390 Accuracy=77.73: 100%|██████████| 391/391 [00:19<00:00, 19.83it/s]\n"
          ]
        },
        {
          "output_type": "stream",
          "name": "stdout",
          "text": [
            "\n",
            "Test set: Average loss: 0.5836, Accuracy: 8016/10000 (80.16%)\n",
            "\n",
            "EPOCH: 19\n"
          ]
        },
        {
          "output_type": "stream",
          "name": "stderr",
          "text": [
            "Loss=0.6330068111419678 Batch_id=390 Accuracy=78.30: 100%|██████████| 391/391 [00:19<00:00, 20.46it/s]\n"
          ]
        },
        {
          "output_type": "stream",
          "name": "stdout",
          "text": [
            "\n",
            "Test set: Average loss: 0.5721, Accuracy: 8044/10000 (80.44%)\n",
            "\n",
            "EPOCH: 20\n"
          ]
        },
        {
          "output_type": "stream",
          "name": "stderr",
          "text": [
            "Loss=0.5875550508499146 Batch_id=390 Accuracy=80.93: 100%|██████████| 391/391 [00:19<00:00, 20.45it/s]\n"
          ]
        },
        {
          "output_type": "stream",
          "name": "stdout",
          "text": [
            "\n",
            "Test set: Average loss: 0.4970, Accuracy: 8301/10000 (83.01%)\n",
            "\n",
            "EPOCH: 21\n"
          ]
        },
        {
          "output_type": "stream",
          "name": "stderr",
          "text": [
            "Loss=0.6348020434379578 Batch_id=390 Accuracy=81.83: 100%|██████████| 391/391 [00:19<00:00, 19.69it/s]\n"
          ]
        },
        {
          "output_type": "stream",
          "name": "stdout",
          "text": [
            "\n",
            "Test set: Average loss: 0.4998, Accuracy: 8288/10000 (82.88%)\n",
            "\n",
            "EPOCH: 22\n"
          ]
        },
        {
          "output_type": "stream",
          "name": "stderr",
          "text": [
            "Loss=0.5407476425170898 Batch_id=390 Accuracy=82.10: 100%|██████████| 391/391 [00:19<00:00, 19.91it/s]\n"
          ]
        },
        {
          "output_type": "stream",
          "name": "stdout",
          "text": [
            "\n",
            "Test set: Average loss: 0.4876, Accuracy: 8330/10000 (83.30%)\n",
            "\n",
            "EPOCH: 23\n"
          ]
        },
        {
          "output_type": "stream",
          "name": "stderr",
          "text": [
            "Loss=0.7638564705848694 Batch_id=390 Accuracy=82.36: 100%|██████████| 391/391 [00:20<00:00, 19.30it/s]\n"
          ]
        },
        {
          "output_type": "stream",
          "name": "stdout",
          "text": [
            "\n",
            "Test set: Average loss: 0.4890, Accuracy: 8324/10000 (83.24%)\n",
            "\n",
            "EPOCH: 24\n"
          ]
        },
        {
          "output_type": "stream",
          "name": "stderr",
          "text": [
            "Loss=0.4956721365451813 Batch_id=390 Accuracy=82.72: 100%|██████████| 391/391 [00:20<00:00, 19.54it/s]\n"
          ]
        },
        {
          "output_type": "stream",
          "name": "stdout",
          "text": [
            "\n",
            "Test set: Average loss: 0.4836, Accuracy: 8374/10000 (83.74%)\n",
            "\n",
            "EPOCH: 25\n"
          ]
        },
        {
          "output_type": "stream",
          "name": "stderr",
          "text": [
            "Loss=0.6025477051734924 Batch_id=390 Accuracy=82.90: 100%|██████████| 391/391 [00:20<00:00, 19.15it/s]\n"
          ]
        },
        {
          "output_type": "stream",
          "name": "stdout",
          "text": [
            "\n",
            "Test set: Average loss: 0.4782, Accuracy: 8381/10000 (83.81%)\n",
            "\n",
            "EPOCH: 26\n"
          ]
        },
        {
          "output_type": "stream",
          "name": "stderr",
          "text": [
            "Loss=0.6308238506317139 Batch_id=390 Accuracy=83.02: 100%|██████████| 391/391 [00:20<00:00, 19.35it/s]\n"
          ]
        },
        {
          "output_type": "stream",
          "name": "stdout",
          "text": [
            "\n",
            "Test set: Average loss: 0.4984, Accuracy: 8333/10000 (83.33%)\n",
            "\n",
            "EPOCH: 27\n"
          ]
        },
        {
          "output_type": "stream",
          "name": "stderr",
          "text": [
            "Loss=0.5707810521125793 Batch_id=390 Accuracy=83.10: 100%|██████████| 391/391 [00:19<00:00, 20.31it/s]\n"
          ]
        },
        {
          "output_type": "stream",
          "name": "stdout",
          "text": [
            "\n",
            "Test set: Average loss: 0.4756, Accuracy: 8399/10000 (83.99%)\n",
            "\n",
            "EPOCH: 28\n"
          ]
        },
        {
          "output_type": "stream",
          "name": "stderr",
          "text": [
            "Loss=0.5461392402648926 Batch_id=390 Accuracy=83.33: 100%|██████████| 391/391 [00:19<00:00, 20.20it/s]\n"
          ]
        },
        {
          "output_type": "stream",
          "name": "stdout",
          "text": [
            "\n",
            "Test set: Average loss: 0.4809, Accuracy: 8351/10000 (83.51%)\n",
            "\n",
            "EPOCH: 29\n"
          ]
        },
        {
          "output_type": "stream",
          "name": "stderr",
          "text": [
            "Loss=0.8582412600517273 Batch_id=390 Accuracy=83.49: 100%|██████████| 391/391 [00:20<00:00, 19.53it/s]\n"
          ]
        },
        {
          "output_type": "stream",
          "name": "stdout",
          "text": [
            "\n",
            "Test set: Average loss: 0.4744, Accuracy: 8384/10000 (83.84%)\n",
            "\n",
            "EPOCH: 30\n"
          ]
        },
        {
          "output_type": "stream",
          "name": "stderr",
          "text": [
            "Loss=0.6706485748291016 Batch_id=390 Accuracy=83.77: 100%|██████████| 391/391 [00:19<00:00, 19.90it/s]\n"
          ]
        },
        {
          "output_type": "stream",
          "name": "stdout",
          "text": [
            "\n",
            "Test set: Average loss: 0.4721, Accuracy: 8411/10000 (84.11%)\n",
            "\n",
            "EPOCH: 31\n"
          ]
        },
        {
          "output_type": "stream",
          "name": "stderr",
          "text": [
            "Loss=0.6171761751174927 Batch_id=390 Accuracy=83.94: 100%|██████████| 391/391 [00:19<00:00, 20.45it/s]\n"
          ]
        },
        {
          "output_type": "stream",
          "name": "stdout",
          "text": [
            "\n",
            "Test set: Average loss: 0.4786, Accuracy: 8379/10000 (83.79%)\n",
            "\n",
            "EPOCH: 32\n"
          ]
        },
        {
          "output_type": "stream",
          "name": "stderr",
          "text": [
            "Loss=0.3916434645652771 Batch_id=390 Accuracy=84.00: 100%|██████████| 391/391 [00:20<00:00, 19.18it/s]\n"
          ]
        },
        {
          "output_type": "stream",
          "name": "stdout",
          "text": [
            "\n",
            "Test set: Average loss: 0.4778, Accuracy: 8404/10000 (84.04%)\n",
            "\n",
            "EPOCH: 33\n"
          ]
        },
        {
          "output_type": "stream",
          "name": "stderr",
          "text": [
            "Loss=0.6115889549255371 Batch_id=390 Accuracy=84.12: 100%|██████████| 391/391 [00:19<00:00, 19.81it/s]\n"
          ]
        },
        {
          "output_type": "stream",
          "name": "stdout",
          "text": [
            "\n",
            "Test set: Average loss: 0.4713, Accuracy: 8406/10000 (84.06%)\n",
            "\n",
            "EPOCH: 34\n"
          ]
        },
        {
          "output_type": "stream",
          "name": "stderr",
          "text": [
            "Loss=0.48301759362220764 Batch_id=390 Accuracy=84.27: 100%|██████████| 391/391 [00:19<00:00, 19.85it/s]\n"
          ]
        },
        {
          "output_type": "stream",
          "name": "stdout",
          "text": [
            "\n",
            "Test set: Average loss: 0.4736, Accuracy: 8406/10000 (84.06%)\n",
            "\n",
            "EPOCH: 35\n"
          ]
        },
        {
          "output_type": "stream",
          "name": "stderr",
          "text": [
            "Loss=0.5736814737319946 Batch_id=390 Accuracy=84.27: 100%|██████████| 391/391 [00:19<00:00, 20.22it/s]\n"
          ]
        },
        {
          "output_type": "stream",
          "name": "stdout",
          "text": [
            "\n",
            "Test set: Average loss: 0.4723, Accuracy: 8431/10000 (84.31%)\n",
            "\n",
            "EPOCH: 36\n"
          ]
        },
        {
          "output_type": "stream",
          "name": "stderr",
          "text": [
            "Loss=0.7792233228683472 Batch_id=390 Accuracy=84.41: 100%|██████████| 391/391 [00:19<00:00, 19.88it/s]\n"
          ]
        },
        {
          "output_type": "stream",
          "name": "stdout",
          "text": [
            "\n",
            "Test set: Average loss: 0.4784, Accuracy: 8404/10000 (84.04%)\n",
            "\n",
            "EPOCH: 37\n"
          ]
        },
        {
          "output_type": "stream",
          "name": "stderr",
          "text": [
            "Loss=0.5994433164596558 Batch_id=390 Accuracy=84.39: 100%|██████████| 391/391 [00:19<00:00, 19.68it/s]\n"
          ]
        },
        {
          "output_type": "stream",
          "name": "stdout",
          "text": [
            "\n",
            "Test set: Average loss: 0.4732, Accuracy: 8457/10000 (84.57%)\n",
            "\n",
            "EPOCH: 38\n"
          ]
        },
        {
          "output_type": "stream",
          "name": "stderr",
          "text": [
            "Loss=0.48993006348609924 Batch_id=390 Accuracy=84.58: 100%|██████████| 391/391 [00:19<00:00, 19.98it/s]\n"
          ]
        },
        {
          "output_type": "stream",
          "name": "stdout",
          "text": [
            "\n",
            "Test set: Average loss: 0.4699, Accuracy: 8442/10000 (84.42%)\n",
            "\n",
            "EPOCH: 39\n"
          ]
        },
        {
          "output_type": "stream",
          "name": "stderr",
          "text": [
            "Loss=0.7569161653518677 Batch_id=390 Accuracy=84.62: 100%|██████████| 391/391 [00:19<00:00, 20.11it/s]\n"
          ]
        },
        {
          "output_type": "stream",
          "name": "stdout",
          "text": [
            "\n",
            "Test set: Average loss: 0.4617, Accuracy: 8463/10000 (84.63%)\n",
            "\n",
            "EPOCH: 40\n"
          ]
        },
        {
          "output_type": "stream",
          "name": "stderr",
          "text": [
            "Loss=0.46803444623947144 Batch_id=390 Accuracy=85.53: 100%|██████████| 391/391 [00:19<00:00, 19.84it/s]\n"
          ]
        },
        {
          "output_type": "stream",
          "name": "stdout",
          "text": [
            "\n",
            "Test set: Average loss: 0.4511, Accuracy: 8506/10000 (85.06%)\n",
            "\n",
            "EPOCH: 41\n"
          ]
        },
        {
          "output_type": "stream",
          "name": "stderr",
          "text": [
            "Loss=0.5184826850891113 Batch_id=390 Accuracy=85.35: 100%|██████████| 391/391 [00:20<00:00, 18.75it/s]\n"
          ]
        },
        {
          "output_type": "stream",
          "name": "stdout",
          "text": [
            "\n",
            "Test set: Average loss: 0.4493, Accuracy: 8518/10000 (85.18%)\n",
            "\n",
            "EPOCH: 42\n"
          ]
        },
        {
          "output_type": "stream",
          "name": "stderr",
          "text": [
            "Loss=0.31600022315979004 Batch_id=390 Accuracy=85.56: 100%|██████████| 391/391 [00:19<00:00, 19.60it/s]\n"
          ]
        },
        {
          "output_type": "stream",
          "name": "stdout",
          "text": [
            "\n",
            "Test set: Average loss: 0.4554, Accuracy: 8498/10000 (84.98%)\n",
            "\n",
            "EPOCH: 43\n"
          ]
        },
        {
          "output_type": "stream",
          "name": "stderr",
          "text": [
            "Loss=0.6888852119445801 Batch_id=390 Accuracy=85.56: 100%|██████████| 391/391 [00:19<00:00, 20.01it/s]\n"
          ]
        },
        {
          "output_type": "stream",
          "name": "stdout",
          "text": [
            "\n",
            "Test set: Average loss: 0.4564, Accuracy: 8513/10000 (85.13%)\n",
            "\n",
            "EPOCH: 44\n"
          ]
        },
        {
          "output_type": "stream",
          "name": "stderr",
          "text": [
            "Loss=0.5335901379585266 Batch_id=390 Accuracy=86.07: 100%|██████████| 391/391 [00:19<00:00, 19.75it/s]\n"
          ]
        },
        {
          "output_type": "stream",
          "name": "stdout",
          "text": [
            "\n",
            "Test set: Average loss: 0.4552, Accuracy: 8499/10000 (84.99%)\n",
            "\n",
            "EPOCH: 45\n"
          ]
        },
        {
          "output_type": "stream",
          "name": "stderr",
          "text": [
            "Loss=0.4403170645236969 Batch_id=390 Accuracy=85.84: 100%|██████████| 391/391 [00:20<00:00, 19.47it/s]\n"
          ]
        },
        {
          "output_type": "stream",
          "name": "stdout",
          "text": [
            "\n",
            "Test set: Average loss: 0.4566, Accuracy: 8508/10000 (85.08%)\n",
            "\n",
            "EPOCH: 46\n"
          ]
        },
        {
          "output_type": "stream",
          "name": "stderr",
          "text": [
            "Loss=0.563590943813324 Batch_id=390 Accuracy=85.76: 100%|██████████| 391/391 [00:19<00:00, 19.87it/s]\n"
          ]
        },
        {
          "output_type": "stream",
          "name": "stdout",
          "text": [
            "\n",
            "Test set: Average loss: 0.4557, Accuracy: 8506/10000 (85.06%)\n",
            "\n",
            "EPOCH: 47\n"
          ]
        },
        {
          "output_type": "stream",
          "name": "stderr",
          "text": [
            "Loss=0.4757114052772522 Batch_id=390 Accuracy=86.15: 100%|██████████| 391/391 [00:19<00:00, 20.40it/s]\n"
          ]
        },
        {
          "output_type": "stream",
          "name": "stdout",
          "text": [
            "\n",
            "Test set: Average loss: 0.4563, Accuracy: 8496/10000 (84.96%)\n",
            "\n",
            "EPOCH: 48\n"
          ]
        },
        {
          "output_type": "stream",
          "name": "stderr",
          "text": [
            "Loss=0.5029522180557251 Batch_id=390 Accuracy=86.24: 100%|██████████| 391/391 [00:19<00:00, 19.81it/s]\n"
          ]
        },
        {
          "output_type": "stream",
          "name": "stdout",
          "text": [
            "\n",
            "Test set: Average loss: 0.4579, Accuracy: 8499/10000 (84.99%)\n",
            "\n",
            "EPOCH: 49\n"
          ]
        },
        {
          "output_type": "stream",
          "name": "stderr",
          "text": [
            "Loss=0.6154364347457886 Batch_id=390 Accuracy=85.96: 100%|██████████| 391/391 [00:19<00:00, 19.59it/s]\n"
          ]
        },
        {
          "output_type": "stream",
          "name": "stdout",
          "text": [
            "\n",
            "Test set: Average loss: 0.4564, Accuracy: 8512/10000 (85.12%)\n",
            "\n"
          ]
        }
      ]
    },
    {
      "cell_type": "code",
      "metadata": {
        "id": "So5uk4EkHW6R"
      },
      "source": [],
      "execution_count": null,
      "outputs": []
    }
  ]
}